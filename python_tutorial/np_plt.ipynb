{
 "cells": [
  {
   "cell_type": "markdown",
   "metadata": {
    "id": "fY12nHhyL9hX"
   },
   "source": [
    "## Numpy \n",
    "\n",
    "Numpy is the core library for scientific computing in Python. It provides a high-performance multidimensional array object, and tools for working with these arrays. Almost all scientific computing packages in Python are built on top of Numpy.\n",
    "\n",
    "(https://numpy.org)"
   ]
  },
  {
   "cell_type": "markdown",
   "metadata": {
    "id": "lZMyAdqhL9hY"
   },
   "source": [
    "To use Numpy, we first need to import the `numpy` package:"
   ]
  },
  {
   "cell_type": "code",
   "execution_count": null,
   "metadata": {
    "id": "58QdX8BLL9hZ"
   },
   "outputs": [],
   "source": [
    "import numpy as np"
   ]
  },
  {
   "cell_type": "markdown",
   "metadata": {
    "id": "DDx6v1EdL9hb"
   },
   "source": [
    "### Arrays"
   ]
  },
  {
   "cell_type": "code",
   "execution_count": null,
   "metadata": {
    "id": "-l3JrGxCL9hc"
   },
   "outputs": [],
   "source": [
    "a = np.array([1, 2, 3, 4]) #create a 1D array\n",
    "type(a)"
   ]
  },
  {
   "cell_type": "code",
   "execution_count": null,
   "metadata": {
    "id": "urjwBmzBXI-3",
    "scrolled": true
   },
   "outputs": [],
   "source": [
    "a.size"
   ]
  },
  {
   "cell_type": "markdown",
   "metadata": {
    "id": "46HL19mPXI-4"
   },
   "source": [
    "***Mathematical operations are performed element wise:***"
   ]
  },
  {
   "cell_type": "code",
   "execution_count": null,
   "metadata": {
    "id": "sAH9glpeXI-4"
   },
   "outputs": [],
   "source": [
    "a = np.array([1, 2, 3, 4])\n",
    "b = np.array([3, 2, 1, 5])"
   ]
  },
  {
   "cell_type": "code",
   "execution_count": null,
   "metadata": {
    "id": "Sfd8qtvSXI-7"
   },
   "outputs": [],
   "source": [
    "a + b #these arithmetic operators are conv wrappers around sp np funcs"
   ]
  },
  {
   "cell_type": "code",
   "execution_count": null,
   "metadata": {
    "id": "1fXhBAs4XI_A"
   },
   "outputs": [],
   "source": [
    "a * b"
   ]
  },
  {
   "cell_type": "code",
   "execution_count": null,
   "metadata": {
    "id": "baMXyN0MXI_C"
   },
   "outputs": [],
   "source": [
    "a / b"
   ]
  },
  {
   "cell_type": "code",
   "execution_count": null,
   "metadata": {
    "id": "EKUKnDWdXI_D"
   },
   "outputs": [],
   "source": [
    "a**b"
   ]
  },
  {
   "cell_type": "code",
   "execution_count": null,
   "metadata": {
    "id": "YSz_5BtOXI_E"
   },
   "outputs": [],
   "source": [
    "a < b"
   ]
  },
  {
   "cell_type": "markdown",
   "metadata": {
    "id": "4zT7yNFzXI_F"
   },
   "source": [
    "Numpy offers many functions for array creation. `arange(start, stop, step)` is one such function."
   ]
  },
  {
   "cell_type": "code",
   "execution_count": null,
   "metadata": {
    "id": "GykaXoCyXI_F"
   },
   "outputs": [],
   "source": [
    "# create array from 0. to pi\n",
    "x = np.arange(0, np.pi, np.pi/10) \n",
    "x"
   ]
  },
  {
   "cell_type": "markdown",
   "metadata": {
    "id": "EaGCR3pWXI_G"
   },
   "source": [
    "Alternate to `arange()` is `linspace()`. `linspace(start, stop, num )` returns `num` evenly spaced samples, calculated over the interval [`start`, `stop`]."
   ]
  },
  {
   "cell_type": "code",
   "execution_count": null,
   "metadata": {
    "id": "hntjeNbYXI_H"
   },
   "outputs": [],
   "source": [
    "x = np.linspace(0, np.pi, 10)\n",
    "x"
   ]
  },
  {
   "cell_type": "markdown",
   "metadata": {
    "id": "EhVBUNXcXI_I"
   },
   "source": [
    "***Mathematical functions apply to entire array:***"
   ]
  },
  {
   "cell_type": "code",
   "execution_count": null,
   "metadata": {
    "id": "OEI3XR5sXI_J"
   },
   "outputs": [],
   "source": [
    "y = np.sin(x) # math lib also has sin fun\n",
    "y"
   ]
  },
  {
   "cell_type": "markdown",
   "metadata": {
    "id": "jTctwqdQL9ih"
   },
   "source": [
    "### Datatypes"
   ]
  },
  {
   "cell_type": "markdown",
   "metadata": {
    "id": "kSZQ1WkIL9ih"
   },
   "source": [
    "Every numpy array is a grid of elements of the **same type**. Numpy provides a large set of numeric datatypes that you can use to construct arrays. Numpy tries to guess a datatype when you create an array, but we can also specify the datatype:"
   ]
  },
  {
   "cell_type": "code",
   "execution_count": null,
   "metadata": {
    "id": "4za4O0m5L9ih"
   },
   "outputs": [],
   "source": [
    "x = np.array([1, 2])  # Let numpy choose the datatype\n",
    "y = np.array([1.0, 2.0])  # Let numpy choose the datatype\n",
    "z = np.array([1, 2], dtype=np.float32)  # Force a particular datatype\n",
    "\n",
    "print(x.dtype, y.dtype, z.dtype)"
   ]
  },
  {
   "cell_type": "markdown",
   "metadata": {
    "id": "FlIK3YqLXI_Q"
   },
   "source": [
    "When operating with arrays of different types, the type of the resulting array corresponds to the more general or precise one (a behavior known as upcasting)."
   ]
  },
  {
   "cell_type": "code",
   "execution_count": null,
   "metadata": {
    "id": "0H6Qip82XI_R"
   },
   "outputs": [],
   "source": [
    "w = x + y\n",
    "w.dtype"
   ]
  },
  {
   "cell_type": "markdown",
   "metadata": {
    "id": "SjssqoSUXI_S"
   },
   "source": [
    "Beware of type coercion:"
   ]
  },
  {
   "cell_type": "code",
   "execution_count": null,
   "metadata": {
    "id": "m7hOtuUyXI_T"
   },
   "outputs": [],
   "source": [
    "# assigning a float into an int32 array truncates the decimal part\n",
    "x[0] = 10.6\n",
    "x"
   ]
  },
  {
   "cell_type": "markdown",
   "metadata": {
    "id": "PthPBltUXI_U"
   },
   "source": [
    "You can explicitly convert or cast an array from one dtype to another using ndarray’s\n",
    "`astype` method:"
   ]
  },
  {
   "cell_type": "code",
   "execution_count": null,
   "metadata": {
    "id": "k29p2OGYXI_V",
    "jupyter": {
     "outputs_hidden": false
    }
   },
   "outputs": [],
   "source": [
    "a = np.array([1, 2, 3, 4, 5])\n",
    "print(a, a.dtype)\n",
    "b = a.astype(np.float64)\n",
    "print(b, b.dtype)"
   ]
  },
  {
   "cell_type": "markdown",
   "metadata": {
    "id": "vJQV-u1jXI_V"
   },
   "source": [
    "#### Exercise:"
   ]
  },
  {
   "cell_type": "code",
   "execution_count": null,
   "metadata": {
    "id": "4WGidGQ0XI_W"
   },
   "outputs": [],
   "source": [
    "# [ ] Create list data\n",
    "data = [180, 215, 210, 210, 188, 176, 209, 200]\n",
    "\n",
    "# Create a Numpy array from list data: np_data\n",
    "\n",
    "# Print out the datatype of the elements of np_data\n"
   ]
  },
  {
   "cell_type": "markdown",
   "metadata": {
    "id": "aa__lx0vXI_X"
   },
   "source": [
    "### Two dimensional arrays:"
   ]
  },
  {
   "cell_type": "code",
   "execution_count": null,
   "metadata": {
    "id": "ma6mk-kdL9hh"
   },
   "outputs": [],
   "source": [
    "b = np.array([[1,2,3],[4,5,6]])   # Create a 2D array\n",
    "print(b)"
   ]
  },
  {
   "cell_type": "code",
   "execution_count": null,
   "metadata": {
    "id": "W0l2VwRUXI_a"
   },
   "outputs": [],
   "source": [
    "b.ndim #number of dimensions"
   ]
  },
  {
   "cell_type": "code",
   "execution_count": null,
   "metadata": {
    "id": "ymfSHAwtL9hj"
   },
   "outputs": [],
   "source": [
    "b.shape #Shape returns a tuple listing the length of the array along each dimension  "
   ]
  },
  {
   "cell_type": "code",
   "execution_count": null,
   "metadata": {},
   "outputs": [],
   "source": [
    "b.size"
   ]
  },
  {
   "cell_type": "code",
   "execution_count": null,
   "metadata": {},
   "outputs": [],
   "source": [
    "b.itemsize"
   ]
  },
  {
   "cell_type": "code",
   "execution_count": null,
   "metadata": {},
   "outputs": [],
   "source": [
    "b.nbytes"
   ]
  },
  {
   "cell_type": "code",
   "execution_count": null,
   "metadata": {},
   "outputs": [],
   "source": [
    "b.strides"
   ]
  },
  {
   "cell_type": "code",
   "execution_count": null,
   "metadata": {
    "id": "9_G5F6ltXI_i"
   },
   "outputs": [],
   "source": [
    "b.T #transpose"
   ]
  },
  {
   "cell_type": "markdown",
   "metadata": {
    "id": "rCePNa6FXI_j"
   },
   "source": [
    "Arithmetic operators apply elementwise. The matrix product can be performed using the `@` operator or the `dot` function or method:"
   ]
  },
  {
   "cell_type": "code",
   "execution_count": null,
   "metadata": {
    "id": "ZnaujyP9XI_k"
   },
   "outputs": [],
   "source": [
    "A = np.array( [[1,1], [0,1]] )\n",
    "B = np.array( [[2,0], [3,4]] )"
   ]
  },
  {
   "cell_type": "code",
   "execution_count": null,
   "metadata": {
    "id": "dT041h2uXI_k"
   },
   "outputs": [],
   "source": [
    "A*B #element by element multiplication"
   ]
  },
  {
   "cell_type": "code",
   "execution_count": null,
   "metadata": {
    "id": "fZP4IslSXI_m"
   },
   "outputs": [],
   "source": [
    "A@B # matrix "
   ]
  },
  {
   "cell_type": "markdown",
   "metadata": {
    "id": "F2qwdyvuL9hn"
   },
   "source": [
    "#### Array creation functions\n",
    "In addition to `np.array`, `np.arange` and `np.linspace`, there are a number of other functions for creating new\n",
    "arrays:"
   ]
  },
  {
   "cell_type": "code",
   "execution_count": null,
   "metadata": {
    "id": "mVTN_EBqL9hn"
   },
   "outputs": [],
   "source": [
    "# Create an array of all zeros\n",
    "a = np.zeros(10)  \n",
    "print(a)"
   ]
  },
  {
   "cell_type": "code",
   "execution_count": null,
   "metadata": {
    "id": "skiKlNmlL9h5"
   },
   "outputs": [],
   "source": [
    "# Create an array of all ones\n",
    "b = np.ones((2,3))  # Note that the shape must be a tuple \n",
    "print(b)"
   ]
  },
  {
   "cell_type": "code",
   "execution_count": null,
   "metadata": {
    "id": "HtFsr03bL9h7"
   },
   "outputs": [],
   "source": [
    "# Create a constant array\n",
    "c = np.full((3,2), 3.14) # Note that the dtype is that of the constant\n",
    "print(c)"
   ]
  },
  {
   "cell_type": "code",
   "execution_count": null,
   "metadata": {
    "id": "-QcALHvkL9h9",
    "scrolled": true
   },
   "outputs": [],
   "source": [
    "d = np.eye(2)  # Create a 2x2 identity matrix\n",
    "print(d)"
   ]
  },
  {
   "cell_type": "code",
   "execution_count": null,
   "metadata": {
    "id": "RCpaYg9qL9iA"
   },
   "outputs": [],
   "source": [
    "e = np.random.random((2,2)) # Create a 2x2 array of uniformly distributed random numbers in [0, 1)\n",
    "print(e)"
   ]
  },
  {
   "cell_type": "code",
   "execution_count": null,
   "metadata": {
    "id": "wt4DQjleXI_q"
   },
   "outputs": [],
   "source": [
    "f=np.empty((2,3))\n",
    "print(f)"
   ]
  },
  {
   "cell_type": "markdown",
   "metadata": {
    "id": "DeSb_Z6YXI_q"
   },
   "source": [
    "### Accessing array elements"
   ]
  },
  {
   "cell_type": "markdown",
   "metadata": {
    "id": "jIDCeW9cXI_r"
   },
   "source": [
    "Arrays can be indexed, sliced and iterated over, much like lists and other Python sequences."
   ]
  },
  {
   "cell_type": "code",
   "execution_count": null,
   "metadata": {
    "id": "2BEb5NqxXI_r"
   },
   "outputs": [],
   "source": [
    "a = np.arange(10.) # create a 1D array\n",
    "a"
   ]
  },
  {
   "cell_type": "code",
   "execution_count": null,
   "metadata": {
    "id": "GJDLgsiMXI_t"
   },
   "outputs": [],
   "source": [
    "# indexing\n",
    "a[-2]"
   ]
  },
  {
   "cell_type": "code",
   "execution_count": null,
   "metadata": {
    "id": "95ZGI3SUXI_w"
   },
   "outputs": [],
   "source": [
    "b = a[2:5] #slicing - start:stop:step\n",
    "b"
   ]
  },
  {
   "cell_type": "markdown",
   "metadata": {
    "id": "UKXTtoiPXI_x"
   },
   "source": [
    "A slice of an array is a view into the same data, so modifying it will modify the original array."
   ]
  },
  {
   "cell_type": "code",
   "execution_count": null,
   "metadata": {
    "id": "Yw4-cdJVXI_y"
   },
   "outputs": [],
   "source": [
    "b[0] = 99 # modifying b modifies a also\n",
    "a "
   ]
  },
  {
   "cell_type": "markdown",
   "metadata": {
    "id": "uPcNxXZhXI_z"
   },
   "source": [
    "If you want a copy instead of a view, you should use the `copy` method. For example:"
   ]
  },
  {
   "cell_type": "code",
   "execution_count": null,
   "metadata": {
    "id": "FttQL6ksXI_2"
   },
   "outputs": [],
   "source": [
    "c = a.copy()\n",
    "c[-1] = 100\n",
    "a"
   ]
  },
  {
   "cell_type": "markdown",
   "metadata": {
    "id": "RnL7kHqJXI_5"
   },
   "source": [
    "Multidimensional arrays can also be indexed and sliced:"
   ]
  },
  {
   "cell_type": "code",
   "execution_count": null,
   "metadata": {
    "id": "wLWA0udwL9iD"
   },
   "outputs": [],
   "source": [
    "a = np.arange(25).reshape(5, 5) #reshape\n",
    "a"
   ]
  },
  {
   "cell_type": "code",
   "execution_count": null,
   "metadata": {
    "id": "efh8vCQEXI_8"
   },
   "outputs": [],
   "source": [
    "a[2, 3]"
   ]
  },
  {
   "cell_type": "code",
   "execution_count": null,
   "metadata": {
    "id": "2YEkkA4iXI_8"
   },
   "outputs": [],
   "source": [
    "a[3]"
   ]
  },
  {
   "cell_type": "markdown",
   "metadata": {
    "id": "QYv4JyIEL9iD"
   },
   "source": [
    "When slicing multidimensional arrays, you must specify a slice for each dimension of the array:"
   ]
  },
  {
   "cell_type": "code",
   "execution_count": null,
   "metadata": {
    "id": "C1qCqFMmXJAG"
   },
   "outputs": [],
   "source": [
    "a[1: , 2:]"
   ]
  },
  {
   "cell_type": "markdown",
   "metadata": {
    "id": "izmlAzOfXJAG"
   },
   "source": [
    "***Exercise 1*** Use slicing to extract the following subarray from `a`\n",
    "\n",
    "$\\left[ \\begin{array}{ccc}\n",
    "\\left[\\begin{array}{cc} 1, &3\\end{array}\\right], \\\\\n",
    "\\left[\\begin{array}{cc} 6, &8\\end{array}\\right], \\\\\n",
    "\\left[\\begin{array}{cc} 11, &13\\end{array}\\right], \\\\\n",
    "\\left[\\begin{array}{cc} 16, &18\\end{array}\\right], \\\\\n",
    "\\left[\\begin{array}{cc} 21, &23\\end{array}\\right], \\\\\n",
    "\\end{array} \\right]$"
   ]
  },
  {
   "cell_type": "code",
   "execution_count": null,
   "metadata": {
    "id": "phc41wuZXJAH"
   },
   "outputs": [],
   "source": []
  },
  {
   "cell_type": "markdown",
   "metadata": {
    "id": "LEI5YuNnXJAI"
   },
   "source": [
    "***Exercise 2*** Use slicing to extract the following subarray from `a`\n",
    "\n",
    "$\\left[ \\begin{array}{ccc}\n",
    "\\left[\\begin{array}{ccc} 10, &12, &14 \\end{array}\\right] \\\\\n",
    "\\left[\\begin{array}{ccc} 20, &22, &24 \\end{array}\\right] \\\\\n",
    "\\end{array} \\right]$"
   ]
  },
  {
   "cell_type": "code",
   "execution_count": null,
   "metadata": {
    "id": "1cnTlM2LXJAI"
   },
   "outputs": [],
   "source": []
  },
  {
   "cell_type": "markdown",
   "metadata": {
    "id": "wI73i5dLXJAJ"
   },
   "source": [
    "***Exercise 3*** Use slicing to extract the following subarray from `a`\n",
    "\n",
    "$\\left[ \\begin{array}{ccc}\n",
    "\\left[\\begin{array}{cc} 18, &19\\end{array}\\right] \\\\\n",
    "\\left[\\begin{array}{cc} 23, &24\\end{array}\\right] \\\\\n",
    "\\end{array} \\right]$"
   ]
  },
  {
   "cell_type": "code",
   "execution_count": null,
   "metadata": {
    "id": "zneHSgrKXJAK"
   },
   "outputs": [],
   "source": []
  },
  {
   "cell_type": "markdown",
   "metadata": {
    "id": "sNo9shwOXJAL"
   },
   "source": [
    "If a slice for a dimension is not specified, it is taken as `:`"
   ]
  },
  {
   "cell_type": "code",
   "execution_count": null,
   "metadata": {
    "id": "59Gvf6oKXJAL"
   },
   "outputs": [],
   "source": [
    "a[1:3] # equivalent to a[1:3, :] - being explicit is better, it tells us that a is 2D"
   ]
  },
  {
   "cell_type": "markdown",
   "metadata": {
    "id": "_Zcf3zi-L9iI"
   },
   "source": [
    "You can also mix integer indexing with slicing. However, doing so will yield an array of lower dimension than the original array. First, create a 2D array:"
   ]
  },
  {
   "cell_type": "code",
   "execution_count": null,
   "metadata": {
    "id": "G6lfbPuxL9iJ"
   },
   "outputs": [],
   "source": [
    "# Create the following 2D array with shape (3, 4)\n",
    "a = np.array([[1,2,3,4], [5,6,7,8], [9,10,11,12]])\n",
    "print(a)"
   ]
  },
  {
   "cell_type": "markdown",
   "metadata": {
    "id": "NCye3NXhL9iL"
   },
   "source": [
    "Mixing integer indexing with slices drops the dimension by one:"
   ]
  },
  {
   "cell_type": "code",
   "execution_count": null,
   "metadata": {
    "id": "EOiEMsmNL9iL"
   },
   "outputs": [],
   "source": [
    "r1 = a[1, :]    # 1D view of the second row of a  \n",
    "print(r1, r1.shape)"
   ]
  },
  {
   "cell_type": "markdown",
   "metadata": {
    "id": "lp4Kbt6fXJAa"
   },
   "source": [
    "While using only slices yields an array of the same dimension as the original array:"
   ]
  },
  {
   "cell_type": "code",
   "execution_count": null,
   "metadata": {
    "id": "xocEqSDNXJAb"
   },
   "outputs": [],
   "source": [
    "r2 = a[1:2, :]  # 2D view of the second row of a\n",
    "print(r2, r2.shape)"
   ]
  },
  {
   "cell_type": "markdown",
   "metadata": {
    "id": "GC8ddbzzXJAi"
   },
   "source": [
    "We can make the same distinction when accessing columns of an array:"
   ]
  },
  {
   "cell_type": "code",
   "execution_count": null,
   "metadata": {
    "id": "JXu73pfDL9iN"
   },
   "outputs": [],
   "source": [
    "c1 = a[:, 1]\n",
    "print(c1, c1.shape)"
   ]
  },
  {
   "cell_type": "code",
   "execution_count": null,
   "metadata": {
    "id": "eJNgFRjlXJAl"
   },
   "outputs": [],
   "source": [
    "c2 = a[:, 1:2]\n",
    "print(c2, c2.shape)"
   ]
  },
  {
   "cell_type": "markdown",
   "metadata": {
    "id": "uS-qqivDXJAn"
   },
   "source": [
    " To convert `c1` to an $nx1$ array like `c2`, we can use `np.reshape()` . (Transpose will not work as `c1` is a 1D array)"
   ]
  },
  {
   "cell_type": "code",
   "execution_count": null,
   "metadata": {
    "id": "Oc4c5fAzXJAo"
   },
   "outputs": [],
   "source": [
    "c1.reshape(3,1)\n"
   ]
  },
  {
   "cell_type": "markdown",
   "metadata": {
    "id": "gJl-QxlcXJAq"
   },
   "source": [
    "An alternate way is to use `np.newaxis`. With `newaxis`, we can insert new dimensions in an array, for example to convert a 1D array to an $nx1$ 2D array :"
   ]
  },
  {
   "cell_type": "code",
   "execution_count": null,
   "metadata": {
    "id": "DBm1B34WXJAr"
   },
   "outputs": [],
   "source": [
    "c=c1[:, np.newaxis] \n",
    "c"
   ]
  },
  {
   "cell_type": "markdown",
   "metadata": {
    "id": "PC_YXA16XJAu"
   },
   "source": [
    "#### Exercise:\n",
    "Convert the 1D array `a` to a 1x5 2D array using `reshape()` and `newaxis`:"
   ]
  },
  {
   "cell_type": "code",
   "execution_count": null,
   "metadata": {
    "id": "RJCZvhlmXJAu"
   },
   "outputs": [],
   "source": [
    "a=np.arange(5)\n",
    "a1 =   # using reshape()\n",
    "a2 =   # using newaxis\n",
    "print(a,shape, a1.shape, a2.shape)"
   ]
  },
  {
   "cell_type": "markdown",
   "metadata": {
    "id": "x916HUtiXJAr"
   },
   "source": [
    "The fact that integer indexing reduces the dimension by one, while slicing maintains the dimension applies to 1D arrays also:"
   ]
  },
  {
   "cell_type": "code",
   "execution_count": null,
   "metadata": {
    "id": "yAQ8w7UgXJAs"
   },
   "outputs": [],
   "source": [
    "a=np.arange(5)/2\n",
    "a"
   ]
  },
  {
   "cell_type": "code",
   "execution_count": null,
   "metadata": {
    "id": "48veZv2LXJAt"
   },
   "outputs": [],
   "source": [
    "a[1]"
   ]
  },
  {
   "cell_type": "code",
   "execution_count": null,
   "metadata": {
    "id": "QvyziFtHXJAt"
   },
   "outputs": [],
   "source": [
    "a[1:2]"
   ]
  },
  {
   "cell_type": "markdown",
   "metadata": {
    "id": "bjhP5LZuXJAw"
   },
   "source": [
    "### Concatenation of arrays\n",
    "\n",
    "Concatenation, or joining of two arrays in NumPy, is primarily accomplished using ``np.concatenate``.\n",
    "``np.concatenate`` takes a tuple or list of arrays as its first argument, as we can see here:"
   ]
  },
  {
   "cell_type": "code",
   "execution_count": null,
   "metadata": {
    "id": "wSt7JJz7XJA3"
   },
   "outputs": [],
   "source": [
    "x = np.array([1, 2, 3])\n",
    "y = np.array([3, 2, 1])\n",
    "np.concatenate([x, y])"
   ]
  },
  {
   "cell_type": "markdown",
   "metadata": {
    "id": "CG95nJbvXJA4"
   },
   "source": [
    "It can also be used for two-dimensional arrays::"
   ]
  },
  {
   "cell_type": "code",
   "execution_count": null,
   "metadata": {
    "id": "CJb0RBUSXJA4"
   },
   "outputs": [],
   "source": [
    "z = np.array([[1, 2, 3], [4, 5, 6]])"
   ]
  },
  {
   "cell_type": "code",
   "execution_count": null,
   "metadata": {
    "id": "PAaDXKwfXJA5"
   },
   "outputs": [],
   "source": [
    "# concatenate along the first axis\n",
    "np.concatenate([z, z])"
   ]
  },
  {
   "cell_type": "code",
   "execution_count": null,
   "metadata": {
    "id": "yoyRpk4UXJA5"
   },
   "outputs": [],
   "source": [
    "# concatenate along the second axis\n",
    "np.concatenate([z, z], axis=1)"
   ]
  },
  {
   "cell_type": "markdown",
   "metadata": {
    "id": "f6y_nZk7XJA6"
   },
   "source": [
    " ``np.vstack`` and ``np.hstack`` can be used for vertical stacking and horizontal stacking"
   ]
  },
  {
   "cell_type": "code",
   "execution_count": null,
   "metadata": {
    "id": "OwLyl8n9XJA6"
   },
   "outputs": [],
   "source": [
    "np.vstack([z,z])"
   ]
  },
  {
   "cell_type": "code",
   "execution_count": null,
   "metadata": {
    "id": "0RHMXSr0XJA7"
   },
   "outputs": [],
   "source": [
    "np.hstack([z,z])"
   ]
  },
  {
   "cell_type": "markdown",
   "metadata": {
    "id": "REfLrUTcL9i7"
   },
   "source": [
    "### Broadcasting\n",
    "Broadcasting is a powerful mechanism that allows numpy to work with arrays of different shapes when performing arithmetic operations. "
   ]
  },
  {
   "cell_type": "code",
   "execution_count": null,
   "metadata": {
    "id": "KwojZiZSXJA8"
   },
   "outputs": [],
   "source": [
    "x = np.arange(4.)\n"
   ]
  },
  {
   "cell_type": "code",
   "execution_count": null,
   "metadata": {
    "id": "uEdpBe6KXJA9"
   },
   "outputs": [],
   "source": [
    "2**x"
   ]
  },
  {
   "cell_type": "markdown",
   "metadata": {
    "id": "KxIW1fn-XJBB"
   },
   "source": [
    "Broadcasting also works when assigning. Let's first create an array `a`:"
   ]
  },
  {
   "cell_type": "code",
   "execution_count": null,
   "metadata": {
    "id": "6XvoDGIcXJBC"
   },
   "outputs": [],
   "source": [
    "a = np.arange(25).reshape(5, 5)\n",
    "a"
   ]
  },
  {
   "cell_type": "markdown",
   "metadata": {
    "id": "OvOTIAQ5XJBD"
   },
   "source": [
    "Assigning to a slice expression assigns to the whole selection:"
   ]
  },
  {
   "cell_type": "code",
   "execution_count": null,
   "metadata": {
    "id": "RLo5M7nRXJBE"
   },
   "outputs": [],
   "source": [
    "a[::2, 1:] = 100  \n",
    "a"
   ]
  },
  {
   "cell_type": "markdown",
   "metadata": {
    "id": "mHrykm_bXJBG"
   },
   "source": [
    "#### Exercise:\n",
    "Create a $5x5$ array of zeros. Replace all elements in the second and third columns by $100$. Replace the $2x2$ slice at the lower right corner by $200$"
   ]
  },
  {
   "cell_type": "code",
   "execution_count": null,
   "metadata": {
    "id": "Ui4MIMsGXJBH"
   },
   "outputs": [],
   "source": []
  },
  {
   "cell_type": "markdown",
   "metadata": {
    "id": "EygGAMWqL9i7"
   },
   "source": [
    "Frequently we have a smaller array and a larger array, and we want to use the smaller array multiple times to perform some operation on the larger array. Suppose that we want to add a constant vector to each row of a matrix. We could do it like this:"
   ]
  },
  {
   "cell_type": "code",
   "execution_count": null,
   "metadata": {
    "id": "WEEvkV1ZL9i7"
   },
   "outputs": [],
   "source": [
    "# We want to add the vector v to each row of the matrix x,\n",
    "# storing the result in the matrix y\n",
    "x = np.ones((4,3))\n",
    "v = np.array([0, 1, 2])\n",
    "\n",
    "y = np.empty_like(x)   # Create an empty matrix with the same shape as x\n",
    "\n",
    "# Add the vector v to each row of the matrix x with an explicit loop\n",
    "for i in range(4):\n",
    "    y[i, :] = x[i, :] + v\n",
    "\n",
    "print(y)"
   ]
  },
  {
   "cell_type": "markdown",
   "metadata": {
    "id": "zHos6RJnL9jB"
   },
   "source": [
    "Numpy broadcasting allows us to perform this computation without actually creating multiple copies of v. Consider this version, using broadcasting:"
   ]
  },
  {
   "cell_type": "code",
   "execution_count": null,
   "metadata": {
    "id": "vnYFb-gYL9jC"
   },
   "outputs": [],
   "source": [
    "# We will add the vector v to each row of the matrix x, storing the result in the matrix y\n",
    "y = x + v  # Add v to each row of x using broadcasting\n",
    "print(y)"
   ]
  },
  {
   "cell_type": "markdown",
   "metadata": {
    "id": "08YyIURKL9jH"
   },
   "source": [
    "The line `y = x + v` works even though `x` has shape `(4, 3)` and `v` has shape `(3,)` due to broadcasting; this line works as if v actually had shape `(4, 3)`, where each row was a copy of `v`, and the sum was performed elementwise.\n",
    "The array `v` is **broadcasted** to the size of `x`\n",
    "\n"
   ]
  },
  {
   "cell_type": "markdown",
   "metadata": {
    "id": "UI_8VawvXJBU"
   },
   "source": [
    "#### Rules of Broadcasting\n",
    "\n",
    "Broadcasting in NumPy follows a strict set of rules to determine the interaction between the two arrays:\n",
    "\n",
    "- Rule 1: If the two arrays differ in their number of dimensions, the shape of the one with fewer dimensions is *padded* with ones on its leading (left) side.\n",
    "- Rule 2: If the shape of the two arrays does not match in any dimension, the array with shape equal to 1 in that dimension is stretched to match the other shape.\n",
    "- Rule 3: If in any dimension the sizes disagree and neither is equal to 1, an error is raised.\n",
    "\n",
    "To make these rules clear, let's consider a few examples in detail."
   ]
  },
  {
   "cell_type": "markdown",
   "metadata": {
    "id": "EFCfCNpDXJBW"
   },
   "source": [
    "#### Broadcasting example 1\n",
    "\n",
    "Let's look at adding a two-dimensional array to a one-dimensional array:"
   ]
  },
  {
   "cell_type": "code",
   "execution_count": null,
   "metadata": {
    "id": "41rlyzVfXJBX"
   },
   "outputs": [],
   "source": [
    "M = np.ones((2, 3))\n",
    "a = np.arange(3)"
   ]
  },
  {
   "cell_type": "markdown",
   "metadata": {
    "id": "8owUZ5EtXJBX"
   },
   "source": [
    "Let's consider an operation on these two arrays. The shape of the arrays are\n",
    "\n",
    "- ``M.shape = (2, 3)``\n",
    "- ``a.shape = (3,)``\n",
    "\n",
    "We see by rule 1 that the array ``a`` has fewer dimensions, so we pad it on the left with ones:\n",
    "\n",
    "- ``M.shape -> (2, 3)``\n",
    "- ``a.shape -> (1, 3)``\n",
    "\n",
    "By rule 2, we now see that the first dimension disagrees, so we stretch this dimension to match:\n",
    "\n",
    "- ``M.shape -> (2, 3)``\n",
    "- ``a.shape -> (2, 3)``\n",
    "\n",
    "The shapes match, and we see that the final shape will be ``(2, 3)``:"
   ]
  },
  {
   "cell_type": "code",
   "execution_count": null,
   "metadata": {
    "id": "VBY_sbhKXJBY"
   },
   "outputs": [],
   "source": [
    "M + a"
   ]
  },
  {
   "cell_type": "markdown",
   "metadata": {
    "id": "r8PRiuz2XJBZ"
   },
   "source": [
    "#### Broadcasting example 2\n",
    "\n",
    "Let's take a look at an example where both arrays need to be broadcast:"
   ]
  },
  {
   "cell_type": "code",
   "execution_count": null,
   "metadata": {
    "id": "0Qj0QkNVXJBb"
   },
   "outputs": [],
   "source": [
    "a = np.arange(3).reshape((3, 1))\n",
    "b = np.arange(3)"
   ]
  },
  {
   "cell_type": "markdown",
   "metadata": {
    "id": "tDhV98piXJBd"
   },
   "source": [
    "Again, we'll start by writing out the shape of the arrays:\n",
    "\n",
    "- ``a.shape = (3, 1)``\n",
    "- ``b.shape = (3,)``\n",
    "\n",
    "Rule 1 says we must pad the shape of ``b`` with ones:\n",
    "\n",
    "- ``a.shape -> (3, 1)``\n",
    "- ``b.shape -> (1, 3)``\n",
    "\n",
    "And rule 2 tells us that we upgrade each of these ones to match the corresponding size of the other array:\n",
    "\n",
    "- ``a.shape -> (3, 3)``\n",
    "- ``b.shape -> (3, 3)``\n",
    "\n",
    "Because the result matches, these shapes are compatible. We can see this here:"
   ]
  },
  {
   "cell_type": "code",
   "execution_count": null,
   "metadata": {
    "id": "lfpHhPYrXJBe"
   },
   "outputs": [],
   "source": [
    "a + b"
   ]
  },
  {
   "cell_type": "markdown",
   "metadata": {
    "id": "1Z4tmcBcXJBf"
   },
   "source": [
    "#### Broadcasting example 3\n",
    "\n",
    "Now let's take a look at an example in which the two arrays are not compatible:"
   ]
  },
  {
   "cell_type": "code",
   "execution_count": null,
   "metadata": {
    "id": "f4rilzKhXJBf"
   },
   "outputs": [],
   "source": [
    "M = np.ones((3, 2))\n",
    "a = np.arange(3)"
   ]
  },
  {
   "cell_type": "markdown",
   "metadata": {
    "id": "gXJBgavMXJBg"
   },
   "source": [
    "This is just a slightly different situation than in the first example: the matrix ``M`` is transposed.\n",
    "How does this affect the calculation? The shape of the arrays are\n",
    "\n",
    "- ``M.shape = (3, 2)``\n",
    "- ``a.shape = (3,)``\n",
    "\n",
    "Again, rule 1 tells us that we must pad the shape of ``a`` with ones:\n",
    "\n",
    "- ``M.shape -> (3, 2)``\n",
    "- ``a.shape -> (1, 3)``\n",
    "\n",
    "By rule 2, the first dimension of ``a`` is stretched to match that of ``M``:\n",
    "\n",
    "- ``M.shape -> (3, 2)``\n",
    "- ``a.shape -> (3, 3)``\n",
    "\n",
    "Now we hit rule 3–the final shapes do not match, so these two arrays are incompatible, as we can observe by attempting this operation:"
   ]
  },
  {
   "cell_type": "code",
   "execution_count": null,
   "metadata": {
    "id": "GWYtp2cFXJBn"
   },
   "outputs": [],
   "source": [
    "M + a"
   ]
  },
  {
   "cell_type": "markdown",
   "metadata": {
    "id": "cIH0ebnDXJBp"
   },
   "source": [
    "Note the potential confusion here: you could imagine making ``a`` and ``M`` compatible by, say, padding ``a``'s shape with ones on the right rather than the left.\n",
    "But this is not how the broadcasting rules work!\n",
    "That sort of flexibility might be useful in some cases, but it would lead to potential areas of ambiguity.\n",
    "If right-side padding is what you'd like, you can do this by explicitly reshaping the array using `np.reshape()` or ``np.newaxis`` :"
   ]
  },
  {
   "cell_type": "code",
   "execution_count": null,
   "metadata": {
    "id": "38iGEz_kXJBp"
   },
   "outputs": [],
   "source": [
    "a[:, np.newaxis].shape"
   ]
  },
  {
   "cell_type": "code",
   "execution_count": null,
   "metadata": {
    "id": "2A3b-XAZXJBq"
   },
   "outputs": [],
   "source": [
    "M + a[:, np.newaxis]"
   ]
  },
  {
   "cell_type": "markdown",
   "metadata": {
    "id": "QlyDnyxXXJBr"
   },
   "source": [
    "Also note that while we've been focusing on the ``+`` operator here, these broadcasting rules apply to many other functions. Functions that support broadcasting are called **universal functions (ufuncs)**. You can find the list of all universal functions in the [documentation](http://docs.scipy.org/doc/numpy/reference/ufuncs.html#).\n",
    "\n",
    "Broadcasting typically makes your code more concise and faster, so you should strive to use it where possible."
   ]
  },
  {
   "cell_type": "markdown",
   "metadata": {
    "id": "j65Bqi1bXJBs"
   },
   "source": [
    "### Indexing with other arrays (Fancy indexing)\n",
    "NumPy arrays may be indexed with other arrays. With index arrays, what is returned is a copy of the original data, not a view as one gets for slices."
   ]
  },
  {
   "cell_type": "code",
   "execution_count": null,
   "metadata": {
    "id": "8MBfHXNhXJBu"
   },
   "outputs": [],
   "source": [
    "#Using another array to index\n",
    "a = np.arange(6)**2\n",
    "a"
   ]
  },
  {
   "cell_type": "code",
   "execution_count": null,
   "metadata": {
    "id": "5C6KX-lGXJBv"
   },
   "outputs": [],
   "source": [
    "indices = [0,2,4,5] # indices can also be numpy array\n",
    "a[indices]"
   ]
  },
  {
   "cell_type": "markdown",
   "metadata": {
    "id": "hBRLpt7YXJBx"
   },
   "source": [
    "Indexing with arrays allows you to rearrange and duplicate array elements arbitrarily"
   ]
  },
  {
   "cell_type": "code",
   "execution_count": null,
   "metadata": {
    "id": "NC_-tbFZXJB1"
   },
   "outputs": [],
   "source": [
    "indices = [3, 2, 2, 1]\n",
    "a[indices]"
   ]
  },
  {
   "cell_type": "markdown",
   "metadata": {
    "id": "MQZk4ZutXJB1"
   },
   "source": [
    "Index array can also be used for setting:"
   ]
  },
  {
   "cell_type": "code",
   "execution_count": null,
   "metadata": {
    "id": "6hazG9-lXJB4"
   },
   "outputs": [],
   "source": [
    "indices = [1, 2, 3]\n",
    "a[indices] = 99\n",
    "a"
   ]
  },
  {
   "cell_type": "markdown",
   "metadata": {
    "id": "kaE8dBGgL9id"
   },
   "source": [
    "### Boolean array indexing\n",
    "Boolean array indexing lets you pick out arbitrary elements of an array. Frequently this type of indexing is used to select the elements of an array that satisfy some condition. Here is an example, where I want to get the negative elements of the array:"
   ]
  },
  {
   "cell_type": "code",
   "execution_count": null,
   "metadata": {
    "id": "NDMxYKCvXJB8"
   },
   "outputs": [],
   "source": [
    "a = np.array([1, -3, 4, -1, 5, -8, 7])\n",
    "mask = a < 0\n",
    "mask"
   ]
  },
  {
   "cell_type": "code",
   "execution_count": null,
   "metadata": {
    "id": "WATg-UITXJB8"
   },
   "outputs": [],
   "source": [
    "a[mask]"
   ]
  },
  {
   "cell_type": "markdown",
   "metadata": {
    "id": "QD0cQ6mYXJB9"
   },
   "source": [
    "This also works when setting. Say, I want set all negative elements to zero:"
   ]
  },
  {
   "cell_type": "code",
   "execution_count": null,
   "metadata": {
    "id": "diik_Y2XXJB9"
   },
   "outputs": [],
   "source": [
    "a[mask] = 0\n",
    "a"
   ]
  },
  {
   "cell_type": "markdown",
   "metadata": {
    "id": "9YYjWGN0XJB-"
   },
   "source": [
    "A 2D example:"
   ]
  },
  {
   "cell_type": "code",
   "execution_count": null,
   "metadata": {
    "id": "32PusjtKL9id"
   },
   "outputs": [],
   "source": [
    "a = np.array([[1,2], [3, 4], [5, 6]])\n",
    "\n",
    "mask = a > 2  # Find the elements of a that are bigger than 2;\n",
    "                    # this returns a numpy array of Booleans of the same\n",
    "                    # shape as a, where each slot of mask tells\n",
    "                    # whether that element of a is > 2.\n",
    "mask"
   ]
  },
  {
   "cell_type": "code",
   "execution_count": null,
   "metadata": {
    "id": "cb2IRMXaL9if"
   },
   "outputs": [],
   "source": [
    "# We use boolean array indexing to construct a rank 1 array\n",
    "# consisting of the elements of a corresponding to the True values of bool_idx\n",
    "a[mask]"
   ]
  },
  {
   "cell_type": "code",
   "execution_count": null,
   "metadata": {
    "id": "82sVNzzyXJCA"
   },
   "outputs": [],
   "source": [
    "# We can do all of the above in a single concise statement:\n",
    "print(a[a > 2])"
   ]
  },
  {
   "cell_type": "markdown",
   "metadata": {
    "id": "Qjw_2sZOXJCA"
   },
   "source": [
    "What if we want to extract elements of `a` that greater than 3 and less than 6?\n",
    "This is accomplished through Python's *bitwise logic operators*, ``&``, ``|``, ``^``, and ``~``.\n",
    "Like with the standard arithmetic operators, NumPy overloads these as ufuncs which work element-wise on (usually Boolean) arrays.\n",
    "We can address this sort of compound question as follows:"
   ]
  },
  {
   "cell_type": "code",
   "execution_count": null,
   "metadata": {
    "id": "uvNmPNiRXJCB"
   },
   "outputs": [],
   "source": [
    "a[(a > 3) & (a < 6)]  "
   ]
  },
  {
   "cell_type": "markdown",
   "metadata": {
    "id": "GNqxS2oQXJCC"
   },
   "source": [
    "Note that the parentheses here are important–because of operator precedence rules"
   ]
  },
  {
   "cell_type": "markdown",
   "metadata": {
    "id": "bvi67plVXJCI"
   },
   "source": [
    "#### Exercise:\n",
    "Replace all elements of `a` which are divisible by $3$ with $100$"
   ]
  },
  {
   "cell_type": "code",
   "execution_count": null,
   "metadata": {
    "id": "CNldeXi6XJCI"
   },
   "outputs": [],
   "source": []
  },
  {
   "cell_type": "markdown",
   "metadata": {
    "id": "0EnQPYRmXJCJ"
   },
   "source": [
    "### Exercise\n",
    "Count the number of elements of `g` that are between 0.25 and 0.75 using the element-wise `&`"
   ]
  },
  {
   "cell_type": "code",
   "execution_count": null,
   "metadata": {
    "id": "d_vGe8EsXJCJ"
   },
   "outputs": [],
   "source": [
    "g=np.random.rand(10)\n",
    "g"
   ]
  },
  {
   "cell_type": "code",
   "execution_count": null,
   "metadata": {
    "id": "OEanaYv-XJCK"
   },
   "outputs": [],
   "source": [
    "np.sum((g > .25) & (g < .75)) #np.count_nonzero() can also be used instead of np.sum()"
   ]
  },
  {
   "cell_type": "markdown",
   "metadata": {
    "id": "TuB-fdhIL9ik"
   },
   "source": [
    "Often when faced with a large amount of data, a first step is to compute summary statistics for the data in question. \n",
    "NumPy has fast built-in aggregation functions for working on arrays. Some examples are `sum`, `prod`, `mean`, `median`, `std`, `var`, `min`, `max`, `argmin`, `argmax`"
   ]
  },
  {
   "cell_type": "code",
   "execution_count": null,
   "metadata": {
    "id": "DZUdZvPrL9i0"
   },
   "outputs": [],
   "source": [
    "x = np.array([[1,2], [3,4]])"
   ]
  },
  {
   "cell_type": "code",
   "execution_count": null,
   "metadata": {
    "id": "CQ82Yt7-XJCN"
   },
   "outputs": [],
   "source": [
    "x.sum() # Compute sum of all elements; eq to np.sum(x)"
   ]
  },
  {
   "cell_type": "code",
   "execution_count": null,
   "metadata": {
    "id": "XAopXgYtXJCN"
   },
   "outputs": [],
   "source": [
    "x.sum(axis=0) # Compute sum of each column; "
   ]
  },
  {
   "cell_type": "code",
   "execution_count": null,
   "metadata": {
    "id": "6vcQrmLtXJCO"
   },
   "outputs": [],
   "source": [
    "x.sum(1) # Compute sum of each row; "
   ]
  },
  {
   "cell_type": "markdown",
   "metadata": {
    "id": "gHwh5VFWXJCP"
   },
   "source": [
    "If we're interested in quickly checking whether any or all the values are true, we can use  ``np.any`` or ``np.all``:"
   ]
  },
  {
   "cell_type": "code",
   "execution_count": null,
   "metadata": {
    "id": "fAI9nr1zXJCQ"
   },
   "outputs": [],
   "source": [
    "# are there any values greater than 5?\n",
    "np.any(x > 5)"
   ]
  },
  {
   "cell_type": "code",
   "execution_count": null,
   "metadata": {
    "id": "ESGpkgJ5XJCQ"
   },
   "outputs": [],
   "source": [
    "# are all values less than 10?\n",
    "np.all(x < 10)"
   ]
  },
  {
   "cell_type": "code",
   "execution_count": null,
   "metadata": {
    "id": "V-si8zVhXJCR"
   },
   "outputs": [],
   "source": [
    "# are all values equal to 6?\n",
    "np.all(x == 6)"
   ]
  },
  {
   "cell_type": "markdown",
   "metadata": {
    "id": "ahdVW4iUL9i3"
   },
   "source": [
    "You can find the full list of functions provided by numpy in the [documentation](https://numpy.org/doc/stable/reference/routines.html)."
   ]
  },
  {
   "cell_type": "markdown",
   "metadata": {
    "id": "SD0sKANYXJCS"
   },
   "source": [
    "#### Example:  Centering an array"
   ]
  },
  {
   "cell_type": "markdown",
   "metadata": {
    "id": "Pc8nf4ssXJCS"
   },
   "source": [
    "Often we need to center an array of data.\n",
    "Imagine you have an array of 10 observations, each of which consists of 3 values.\n",
    "Using the standard convention, we'll store this in a $10 \\times 3$ array:"
   ]
  },
  {
   "cell_type": "code",
   "execution_count": null,
   "metadata": {
    "id": "g619IJN1XJCV"
   },
   "outputs": [],
   "source": [
    "X = np.random.rand(10, 3)"
   ]
  },
  {
   "cell_type": "markdown",
   "metadata": {
    "id": "uRxMdGu9XJCX"
   },
   "source": [
    "We can compute the mean of each feature using the ``mean`` aggregate across the first dimension:"
   ]
  },
  {
   "cell_type": "code",
   "execution_count": null,
   "metadata": {
    "id": "WViBLXteXJCZ"
   },
   "outputs": [],
   "source": [
    "Xmean = X.mean(0)\n",
    "Xmean"
   ]
  },
  {
   "cell_type": "markdown",
   "metadata": {
    "id": "TCyEjHw1XJCa"
   },
   "source": [
    "And now we can center the ``X`` array by subtracting the mean (this is a broadcasting operation):"
   ]
  },
  {
   "cell_type": "code",
   "execution_count": null,
   "metadata": {
    "id": "TLFDjcjlXJCb"
   },
   "outputs": [],
   "source": [
    "X_centered = X - Xmean"
   ]
  },
  {
   "cell_type": "markdown",
   "metadata": {
    "id": "eylWo2W4XJCb"
   },
   "source": [
    "To double-check that we've done this correctly, we can check that the centered array has near zero mean:"
   ]
  },
  {
   "cell_type": "code",
   "execution_count": null,
   "metadata": {
    "id": "dpbspXHpXJCc"
   },
   "outputs": [],
   "source": [
    "X_centered.mean(0)"
   ]
  },
  {
   "cell_type": "markdown",
   "metadata": {
    "id": "hWqtDZfkXJCc"
   },
   "source": [
    "To within machine precision, the mean is now zero."
   ]
  },
  {
   "cell_type": "markdown",
   "metadata": {
    "id": "tnutkZ9QXJCd"
   },
   "source": [
    "#### Exercise: Finding the nearest value to a given value in an array\n",
    "Generate a random array of 10 numbers. Pick the number closest to $0.75$. Make use of `np.abs` and `np.argmin` "
   ]
  },
  {
   "cell_type": "code",
   "execution_count": null,
   "metadata": {
    "id": "gXfXOlQIXJCe"
   },
   "outputs": [],
   "source": [
    "z = np.random.rand(10)\n",
    "print(z)"
   ]
  },
  {
   "cell_type": "code",
   "execution_count": null,
   "metadata": {
    "id": "vc8NqeFoXJCf"
   },
   "outputs": [],
   "source": [
    "index = (np.abs(z-0.75)).argmin()\n",
    "print(z[index])"
   ]
  },
  {
   "cell_type": "markdown",
   "metadata": {
    "id": "lTTtSyGNXJCg"
   },
   "source": [
    "# Visualization with Matplotlib"
   ]
  },
  {
   "cell_type": "markdown",
   "metadata": {
    "id": "83OL0QBdXJCg"
   },
   "source": [
    "\n",
    "The Matplotlib package can be used for visualization in Python.\n",
    "\n",
    "`matplotlib.pyplot` is a collection of functions that make matplotlib work like MATLAB. `matplotlib.pyplot` makes it easy to create and manage figures. The MATLAB style interface is what we will use most often. An object-oriented style is also available which is more powerful and gives more control.\n"
   ]
  },
  {
   "cell_type": "markdown",
   "metadata": {
    "id": "7OxcmpFoXJCh"
   },
   "source": [
    "### Importing Matplotlib\n",
    "\n",
    "Just as we use the ``np`` shorthand for NumPy, we will use a standard shorthand for Matplotlib imports:"
   ]
  },
  {
   "cell_type": "code",
   "execution_count": null,
   "metadata": {
    "id": "07YAty9YXJCh"
   },
   "outputs": [],
   "source": [
    "import matplotlib.pyplot as plt\n",
    "%matplotlib inline"
   ]
  },
  {
   "cell_type": "markdown",
   "metadata": {
    "id": "Qt6YOKWWXJCi"
   },
   "source": [
    "The most important function in `matplotlib` is `plot`, which allows you to plot 2D data. Here is a simple example:"
   ]
  },
  {
   "cell_type": "code",
   "execution_count": null,
   "metadata": {
    "id": "5MMgzR9uXJCi",
    "scrolled": true
   },
   "outputs": [],
   "source": [
    "y=[2,4,3]\n",
    "plt.plot(y);"
   ]
  },
  {
   "cell_type": "markdown",
   "metadata": {
    "id": "qLTUvWLCXJCo"
   },
   "source": [
    "\n",
    "If you are using Matplotlib from within a script, the function ``plt.show()`` is needed for your figure to be displayed in a window.\n"
   ]
  },
  {
   "cell_type": "markdown",
   "metadata": {
    "id": "kWR0uilPXJCp"
   },
   "source": [
    "**Plotting a sinusoid from $0$ to $3\\pi$:**"
   ]
  },
  {
   "cell_type": "code",
   "execution_count": null,
   "metadata": {
    "id": "Oori9K0-XJCt",
    "scrolled": true
   },
   "outputs": [],
   "source": [
    "# Compute the x and y coordinates for points on a sine curve\n",
    "import numpy as np\n",
    "x = np.linspace(0, 3 * np.pi, 50)\n",
    "y = np.sin(x)\n",
    "\n",
    "# Plot the points using matplotlib\n",
    "plt.plot(x, y)"
   ]
  },
  {
   "cell_type": "markdown",
   "metadata": {
    "id": "THPaGrqjXJCu"
   },
   "source": [
    "Thus, `plot` can be used with one argument as `plot(y)`, which plots `y` values against its index or as `plot(x, y)`, which plots `y` vs `x`."
   ]
  },
  {
   "cell_type": "markdown",
   "metadata": {
    "id": "vcNahPddXJCv"
   },
   "source": [
    "#### Labelling x and y axis, adding title and legend:"
   ]
  },
  {
   "cell_type": "code",
   "execution_count": null,
   "metadata": {
    "id": "T6x4lowTXJCw",
    "scrolled": true
   },
   "outputs": [],
   "source": [
    "x = np.linspace(0, 10, 100)\n",
    "y = np.sin(x)\n",
    "z = np.cos(x)\n",
    "\n",
    "# Plot the points using matplotlib\n",
    "plt.plot(x, y, x, z) # multiple plots using a single plot()\n",
    "plt.xlabel('x axis label')\n",
    "plt.ylabel('y axis label')\n",
    "plt.title('Sine and Cosine')\n",
    "plt.legend(['Sine', 'Cosine']);"
   ]
  },
  {
   "cell_type": "markdown",
   "metadata": {
    "id": "7iVbFRcnXJCw"
   },
   "source": [
    "An alternative method to add legend is to use the `label=\"label text\"` keyword argument within `plt.plot()`, and then using the `legend` method without arguments to add the legend to the figure:"
   ]
  },
  {
   "cell_type": "code",
   "execution_count": null,
   "metadata": {
    "id": "S1t9nZgGXJCx",
    "scrolled": true
   },
   "outputs": [],
   "source": [
    "import numpy as np\n",
    "x = np.linspace(0, 2*np.pi, 100)\n",
    "\n",
    "plt.plot(x, np.sin(x), label='sin(x)')\n",
    "plt.plot(x, np.sin(2*x), label='sin(2x)')\n",
    "plt.legend() #legend without arguments\n",
    "plt.savefig('myfig.png') # saves the current fig in the current working dir with file name myfig.png"
   ]
  },
  {
   "cell_type": "markdown",
   "metadata": {
    "id": "zzVADLNmXJCy"
   },
   "source": [
    "**Including mathematical expressions in figures:**\n",
    "\n",
    "Matplotlib accepts TeX equation expressions in any text expression (legend, title, label etc). For example to write the expression $\\sigma_i=15$ in the title, you can write a TeX expression surrounded by dollar signs:\n",
    "`plt.title(r'$\\sigma_i=15$')`\n",
    "\n",
    "The `r` preceding the title string is important -- it signifies that the string is a *raw* string and not to treat backslashes as python escapes.\n",
    "\n",
    "Let us add x and y labels and legend to a polynomials plot:"
   ]
  },
  {
   "cell_type": "code",
   "execution_count": null,
   "metadata": {
    "id": "EVJUBK7NXJCz"
   },
   "outputs": [],
   "source": [
    "plt.plot(x, x, label=r'$y = x$') #linear\n",
    "plt.plot(x, x**2, label=r'$y = x^2$') #quadratic\n",
    "plt.plot(x, x**3, label=r'$y = x^3$'); #cubic\n",
    "plt.xlabel(r'$x$')\n",
    "plt.ylabel(r'$y$')\n",
    "plt.legend();"
   ]
  },
  {
   "cell_type": "markdown",
   "metadata": {
    "id": "FTWoMocgXJC0"
   },
   "source": [
    "In addition, `plot(x, y, formatstring)` plots `y` vs `x` using colors and markers defined in `formatstring`, which can be a lot of things. It can be used to define the color, for example `'b'` for blue, `'r'` for red, and `'g'` for green. Or it can be used to define the linetype `'-'` for line, `'--'` for dashed, `':'` for dots, `'o'` for circles and `'s'` for squares. You can even combine them: `'r--'` gives a red dashed line, while `'go'` gives green circular markers. If that is not enough, plot takes a number of keyword arguments like `linewidth` and `markersize`."
   ]
  },
  {
   "cell_type": "code",
   "execution_count": null,
   "metadata": {
    "id": "iQet8cARXJDh",
    "scrolled": true
   },
   "outputs": [],
   "source": [
    "# red dashes, blue squares, yellow circles and green triangles\n",
    "plt.plot(x, x, 'r--')\n",
    "plt.plot( x, x**2, 'bs')\n",
    "plt.plot( x, x**2.5, 'yo')\n",
    "plt.plot( x, x**3, 'g^')"
   ]
  },
  {
   "cell_type": "code",
   "execution_count": null,
   "metadata": {
    "id": "uckh-qf7XJDi"
   },
   "outputs": [],
   "source": [
    "help(plt.plot)"
   ]
  },
  {
   "cell_type": "markdown",
   "metadata": {
    "id": "vhGwjLrVXJDj"
   },
   "source": [
    "**Exercise** Plot $y$ vs $x$ for $x$ going from $-4$ to $+4$ for the polynomial\n",
    "$y=ax^2+bx+c$ with $a=1$, $b=1$, $c=-6$. Use linewidth of 6 (use the `linewidth` keyword argument in `plt.plot()` . "
   ]
  },
  {
   "cell_type": "code",
   "execution_count": null,
   "metadata": {
    "id": "quBMmX_TXJDk"
   },
   "outputs": [],
   "source": []
  },
  {
   "cell_type": "markdown",
   "metadata": {
    "id": "RmIchLU9XJDk"
   },
   "source": [
    "#### Exercise\n",
    "Create an array for variable $x$ consisting of 100 values from 0 to 20. Compute $y=\\sin(x)$ and plot $y$ vs. $x$ with a blue line. Next, using boolean indexing, replace all values of $y$ that are larger than 0.5 by 0.5, and all values that are smaller than $-$0.75 by $-$0.75, and plot the modified $y$ values vs. $x$ using a red line on the same graph. "
   ]
  },
  {
   "cell_type": "code",
   "execution_count": null,
   "metadata": {
    "id": "tfjAZaBKXJDl"
   },
   "outputs": [],
   "source": [
    "x = np.linspace(0, 20, 100)\n",
    "y = np.sin(x)\n",
    "plt.plot(x,y, 'b')\n",
    "y[ y > 0.5] = 0.5\n",
    "y[y < -0.75] = -0.75\n",
    "plt.plot(x, y, 'r')"
   ]
  },
  {
   "cell_type": "markdown",
   "metadata": {
    "id": "XICDKorHXJEB"
   },
   "source": [
    "***New figure and figure size***\n",
    "\n",
    "Whenever you give a plotting statement in a code cell, a figure with a default size is automatically created, and all subsequent plotting statements in the code cell are added to the same figure, unless you create a new figure using `plt.figure()`. If you want a different size of the figure, you can use the `plt.figure(figsize=(width, height))` syntax. "
   ]
  },
  {
   "cell_type": "code",
   "execution_count": null,
   "metadata": {
    "id": "ScTkfsoGXJEB",
    "scrolled": true
   },
   "outputs": [],
   "source": [
    "plt.plot([1, 2, 3], [2, 4, 3])\n",
    "plt.title('first figure')\n",
    "plt.figure()  # new figure of default size; set size using figsize=(width, height)\n",
    "plt.plot([1, 2, 3], [1, 3, 1], 'r')\n",
    "plt.title('second figure');"
   ]
  },
  {
   "cell_type": "markdown",
   "metadata": {
    "id": "9-XjnYFyXJEC"
   },
   "source": [
    "**Subplots**\n",
    "\n",
    "You can divide a figure into an $mxn$ grid and plot in panel $p$ using the `subplot(mnp)` syntax. Here is an example:"
   ]
  },
  {
   "cell_type": "code",
   "execution_count": null,
   "metadata": {},
   "outputs": [],
   "source": [
    "# Plotting a damped and undamped sinusoid\n",
    "t = np.linspace(0.0, 5.0, 100)\n",
    "x = np.exp(-t) * np.cos(2*np.pi*t)\n",
    "plt.subplot(211)\n",
    "plt.plot(t, x)\n",
    "\n",
    "# create a second sub plot\n",
    "y  = np.cos(2*np.pi*t)\n",
    "plt.subplot(212)\n",
    "plt.plot(t, y);"
   ]
  },
  {
   "cell_type": "markdown",
   "metadata": {
    "id": "kSWKaoh8XJEF"
   },
   "source": [
    "**Plotting images using plt.imshow()**\n",
    "\n",
    "A grayscale image is a 2D array of numbers:"
   ]
  },
  {
   "cell_type": "code",
   "execution_count": null,
   "metadata": {
    "id": "DT6cGZERXJEG"
   },
   "outputs": [],
   "source": [
    "random_image = np.random.random((50, 40))\n",
    "\n",
    "plt.imshow(random_image, cmap='gray')\n",
    "plt.colorbar();"
   ]
  },
  {
   "cell_type": "code",
   "execution_count": null,
   "metadata": {
    "id": "C4vNvCBWXJES"
   },
   "outputs": [],
   "source": [
    "random_colorim = np.random.random((5, 4, 3))\n",
    "\n",
    "plt.imshow(random_colorim)"
   ]
  },
  {
   "cell_type": "markdown",
   "metadata": {
    "id": "TOq4g_3lXJES"
   },
   "source": [
    "**Exercise**\n",
    "\n",
    "Draw the letter H in green color on a red background"
   ]
  },
  {
   "cell_type": "code",
   "execution_count": null,
   "metadata": {
    "id": "IrGqPAY1XJET"
   },
   "outputs": [],
   "source": [
    "im = np.zeros((5,4,3), dtype=np.uint8)\n",
    "im[:,:,:]=[255, 0, 0]\n",
    "im[2,:,:]=[0, 255, 0]\n",
    "im[:,[0,-1],:]=[0, 255, 0]\n",
    "plt.imshow(im)"
   ]
  },
  {
   "cell_type": "markdown",
   "metadata": {
    "id": "a-y9nuX2XJET"
   },
   "source": [
    "**Bar plot and Scatter plot**\n",
    "\n",
    "Matplotlib allows you to pass categorical variables directly to many plotting functions. For example:"
   ]
  },
  {
   "cell_type": "code",
   "execution_count": null,
   "metadata": {
    "id": "hSvsBbZDXJEU"
   },
   "outputs": [],
   "source": [
    "names = ['group_a', 'group_b', 'group_c']\n",
    "values = [1, 10, 100]\n",
    "\n",
    "plt.figure(figsize=(9, 3))\n",
    "\n",
    "plt.subplot(131)\n",
    "plt.bar(names, values)\n",
    "\n",
    "plt.subplot(132)\n",
    "plt.scatter(names, values)\n",
    "\n",
    "plt.subplot(133)\n",
    "plt.plot(names, values)\n",
    "\n",
    "plt.suptitle('Categorical Plotting');"
   ]
  },
  {
   "cell_type": "markdown",
   "metadata": {
    "id": "MAOnAEBRXJEU"
   },
   "source": [
    "##### Object-oriented interface\n",
    "\n",
    "It is important to note that the `matplotlib.pyplot` interface is *stateful*: it keeps track of the \"current\" figure and axes, which are where all ``plt`` commands are applied.\n",
    "You can get a reference to these using the ``plt.gcf()`` (get current figure) and ``plt.gca()`` (get current axes) routines.\n",
    "\n",
    "While this stateful interface is fast and convenient for simple plots, it is easy to run into problems.\n",
    "For example, once the second panel is created, how can we go back and add something to the first?\n",
    "This is possible within the MATLAB-style interface, but a bit clunky. The object-oriented interface is available for these more complicated situations, and for when you want more control over your figure.\n",
    "Rather than depending on some notion of an \"active\" figure or axes, in the object-oriented interface the plotting functions are *methods* of explicit ``Figure`` and ``Axes`` objects."
   ]
  },
  {
   "cell_type": "code",
   "execution_count": null,
   "metadata": {
    "id": "yl7ZgXDoXJEV"
   },
   "outputs": [],
   "source": [
    "fig, ax = plt.subplots(1,1)  # Create a figure containing a single axes.\n",
    "ax.plot([1, 2, 3, 4], [1, 4, 2, 3])  # Plot some data on the axes."
   ]
  },
  {
   "cell_type": "code",
   "execution_count": null,
   "metadata": {
    "id": "zWZpK1w0XJEX"
   },
   "outputs": [],
   "source": [
    "import numpy as np\n",
    "x = np.linspace(0, 10, 100)\n",
    "\n",
    "# First create a grid of plots\n",
    "# ax will be an array of two Axes objects\n",
    "fig, ax = plt.subplots(2,1) #eq to plt.subplots(2)\n",
    "\n",
    "# Call plot() method on the appropriate object\n",
    "ax[0].plot(x, np.sin(x))\n",
    "ax[1].plot(x, np.cos(x));"
   ]
  },
  {
   "cell_type": "markdown",
   "metadata": {
    "id": "VBUnPQnGXJEY"
   },
   "source": [
    "For more simple plots, the choice of which style to use is largely a matter of preference, but the object-oriented approach can become a necessity as plots become more complicated."
   ]
  },
  {
   "cell_type": "markdown",
   "metadata": {
    "id": "2MR3ogyVXJEa"
   },
   "source": [
    "### Gallery of graphs\n",
    "The plotting package `matplotlib` allows you to make very fancy graphs. Check out the <A href=\"http://matplotlib.org/gallery.html\"  target=_blank>matplotlib gallery</A> to get an overview of many of the options. "
   ]
  }
 ],
 "metadata": {
  "colab": {
   "collapsed_sections": [],
   "name": "np_plt.ipynb",
   "provenance": []
  },
  "kernelspec": {
   "display_name": "Python 3 (ipykernel)",
   "language": "python",
   "name": "python3"
  },
  "language_info": {
   "codemirror_mode": {
    "name": "ipython",
    "version": 3
   },
   "file_extension": ".py",
   "mimetype": "text/x-python",
   "name": "python",
   "nbconvert_exporter": "python",
   "pygments_lexer": "ipython3",
   "version": "3.8.5"
  }
 },
 "nbformat": 4,
 "nbformat_minor": 1
}
