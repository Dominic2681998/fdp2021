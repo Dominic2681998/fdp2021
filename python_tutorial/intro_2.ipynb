{
 "cells": [
  {
   "cell_type": "markdown",
   "metadata": {},
   "source": [
    "## Functions"
   ]
  },
  {
   "cell_type": "markdown",
   "metadata": {},
   "source": [
    "A function is a piece of reusable code that solves a particular task. Python has many built in functions."
   ]
  },
  {
   "cell_type": "code",
   "execution_count": null,
   "metadata": {},
   "outputs": [],
   "source": [
    "heights=[1.63, 1.77, 1.73, 1.81, 1.56]\n",
    "max(heights) #max is one of Pythons's built-in functions"
   ]
  },
  {
   "cell_type": "markdown",
   "metadata": {},
   "source": [
    "` print(), type(), str(), int(), bool(), float(), len()` are just a few of Python's built-in functions. [Here is the complete list.](https://docs.python.org/3/library/functions.html)"
   ]
  },
  {
   "cell_type": "markdown",
   "metadata": {},
   "source": [
    "`round()` is another built-in function:"
   ]
  },
  {
   "cell_type": "code",
   "execution_count": null,
   "metadata": {},
   "outputs": [],
   "source": [
    "round(1.68, 1) "
   ]
  },
  {
   "cell_type": "code",
   "execution_count": null,
   "metadata": {},
   "outputs": [],
   "source": [
    "round(1.68) #accepts single argument also"
   ]
  },
  {
   "cell_type": "code",
   "execution_count": null,
   "metadata": {
    "scrolled": true
   },
   "outputs": [],
   "source": [
    "help(round)"
   ]
  },
  {
   "cell_type": "markdown",
   "metadata": {},
   "source": [
    "The second argument `ndigits` is  optional with a default value `None`. \n",
    "\n",
    "The arguments can be passed as *positional arguments* or as *keyword (named) arguments*. The order does not matter when using keyword arguments."
   ]
  },
  {
   "cell_type": "code",
   "execution_count": null,
   "metadata": {},
   "outputs": [],
   "source": [
    "round(ndigits=1, number=1.68)"
   ]
  },
  {
   "cell_type": "markdown",
   "metadata": {},
   "source": [
    "Have a look at the documentation of the built-in function `print()`:"
   ]
  },
  {
   "cell_type": "code",
   "execution_count": null,
   "metadata": {},
   "outputs": [],
   "source": [
    "help(print)"
   ]
  },
  {
   "cell_type": "markdown",
   "metadata": {},
   "source": [
    "`sep`,`end`,`file` and `flush`, if present, must be given as *keyword arguments*. Keyword arguments do not need to come in the same order as in the function definition. Keyword arguments must follow positional arguments, though."
   ]
  },
  {
   "cell_type": "code",
   "execution_count": null,
   "metadata": {},
   "outputs": [],
   "source": [
    "print(26,2,2020, sep='-')"
   ]
  },
  {
   "cell_type": "code",
   "execution_count": null,
   "metadata": {},
   "outputs": [],
   "source": [
    "print(26,2,20, sep='-', end='\\t')\n",
    "print(27,2,20, sep='-')"
   ]
  },
  {
   "cell_type": "markdown",
   "metadata": {},
   "source": [
    "Have a look at the documentation of another built-in function `sorted()` :"
   ]
  },
  {
   "cell_type": "code",
   "execution_count": null,
   "metadata": {},
   "outputs": [],
   "source": [
    "help(sorted)"
   ]
  },
  {
   "cell_type": "markdown",
   "metadata": {},
   "source": [
    "You'll see that `sorted()` takes three arguments: `iterable`, `key` and `reverse`.`iterable` is *positional-only* `key` and `reverse` are *keyword-only*\n",
    "\n",
    "\n",
    "In the next exercise, you'll only have to specify `iterable` and `reverse`, not `key`. \n",
    "\n",
    "**Exercise:** Two lists have been created for you below. Can you paste them together and sort them in descending order?"
   ]
  },
  {
   "cell_type": "code",
   "execution_count": null,
   "metadata": {},
   "outputs": [],
   "source": [
    "# Create lists first and second\n",
    "first = [11.25, 18.0, 20.0]\n",
    "second = [10.75, 9.50]\n",
    "\n",
    "# Merge together first and second using + : full\n",
    "\n",
    "\n",
    "# Sort full in descending order: full_sorted\n",
    "\n",
    "\n",
    "# Print out full_sorted\n"
   ]
  },
  {
   "cell_type": "markdown",
   "metadata": {},
   "source": [
    " `list.sort()` vs `sorted(list)`: sorted() returns a **new** sorted list, leaving the original list unaffected. `list.sort()` sorts the list in-place, mutating the list, and returns `None` (like all in-place operations)"
   ]
  },
  {
   "cell_type": "markdown",
   "metadata": {},
   "source": [
    "**User defined functions:** In addition to built-in functions and methods, Python allows to define your own functions.\n",
    "\n",
    "\n",
    "A function in Python is defined using the keyword `def`, followed by a function name, parameters within parentheses `()`, and a colon `:`. The following code, with one additional level of **indentation**, is the function body.\n",
    "\n",
    "In Python, code blocks are defined by their indentation level, not curly braces {}\n",
    "\n",
    "We have to be careful to indent our code blocks correctly. Else, we will get errors"
   ]
  },
  {
   "cell_type": "code",
   "execution_count": null,
   "metadata": {
    "jupyter": {
     "outputs_hidden": false
    }
   },
   "outputs": [],
   "source": [
    "def least_difference(a, b, c):\n",
    "    diff1 = abs(a - b)\n",
    "    diff2 = abs(b - c)\n",
    "    diff3 = abs(a - c)\n",
    "    return min(diff1, diff2, diff3)"
   ]
  },
  {
   "cell_type": "code",
   "execution_count": null,
   "metadata": {
    "jupyter": {
     "outputs_hidden": false
    }
   },
   "outputs": [],
   "source": [
    "least_difference(1,5,-2)"
   ]
  },
  {
   "cell_type": "markdown",
   "metadata": {},
   "source": [
    "The docstring is a triple-quoted string (which may span multiple lines) that comes immediately after the header of a function. When we call help() on a function, it shows the docstring."
   ]
  },
  {
   "cell_type": "code",
   "execution_count": null,
   "metadata": {
    "jupyter": {
     "outputs_hidden": false
    }
   },
   "outputs": [],
   "source": [
    "def least_difference(a, b, c):\n",
    "    \"\"\"Return the smallest difference between any two numbers\n",
    "    among a, b and c.\n",
    "    \n",
    "    >>> least_difference(1, 5, -5)\n",
    "    4\n",
    "    \"\"\"\n",
    "    diff1 = abs(a - b)\n",
    "    diff2 = abs(b - c)\n",
    "    diff3 = abs(a - c)\n",
    "    return min(diff1, diff2, diff3)"
   ]
  },
  {
   "cell_type": "code",
   "execution_count": null,
   "metadata": {
    "jupyter": {
     "outputs_hidden": false
    }
   },
   "outputs": [],
   "source": [
    "help(least_difference)"
   ]
  },
  {
   "cell_type": "code",
   "execution_count": null,
   "metadata": {
    "jupyter": {
     "outputs_hidden": false
    }
   },
   "outputs": [],
   "source": [
    "def power(x, y):\n",
    "    \"\"\"\n",
    "    power(x, y)\n",
    "    Returns x raised to y.\n",
    "    \"\"\"\n",
    "    return x ** y"
   ]
  },
  {
   "cell_type": "code",
   "execution_count": null,
   "metadata": {
    "jupyter": {
     "outputs_hidden": false
    }
   },
   "outputs": [],
   "source": [
    "power(2, 5)"
   ]
  },
  {
   "cell_type": "markdown",
   "metadata": {},
   "source": [
    "Remember that the order of arguments is irrelevant when using named arguments:"
   ]
  },
  {
   "cell_type": "code",
   "execution_count": null,
   "metadata": {},
   "outputs": [],
   "source": [
    "power(y = 5, x = 2)"
   ]
  },
  {
   "cell_type": "code",
   "execution_count": null,
   "metadata": {},
   "outputs": [],
   "source": [
    "# This function converts miles to kilometers (km).\n",
    "# [] Complete the function to return the result of the conversion\n",
    "def convert_distance(miles):\n",
    "    km = miles * 1.6  # approximately 1.6 km in 1 mile\n",
    "    ___\n",
    "\n",
    "my_trip_miles = 55\n",
    "\n",
    "# [] Convert my_trip_miles to kilometers by calling the function above\n",
    "my_trip_km = ___\n",
    "\n",
    "# [] Fill in the blank to print the result of the conversion\n",
    "print(\"The distance in kilometers is \" ___ ___)\n",
    "\n",
    "# [] Calculate the round-trip in kilometers by doubling the result,\n",
    "#    and fill in the blank to print the result\n",
    "print(\"The round-trip in kilometers is \" ___ ___)"
   ]
  },
  {
   "cell_type": "markdown",
   "metadata": {},
   "source": [
    "# &nbsp;\n",
    "<font size=\"2\" color=\"#B24C00\"  face=\"verdana\"> <B>Task: Write a function that adds the \"Doctor\" title to a name </B></font>\n",
    "- Define function `make_doctor()`&nbsp; that takes a parameter `name` ,  prefixes Dr. to `name` and returns the prefixed string\n",
    "- Outside the function, get user **input** for variable **`full_name`**\n",
    "- call the function using `full_name` &nbsp; as argument\n",
    "- print the return value"
   ]
  },
  {
   "cell_type": "code",
   "execution_count": null,
   "metadata": {
    "jupyter": {
     "outputs_hidden": false
    }
   },
   "outputs": [],
   "source": [
    "\n"
   ]
  },
  {
   "cell_type": "markdown",
   "metadata": {},
   "source": [
    "# &nbsp;\n",
    "<font size=\"2\" color=\"#B24C00\"  face=\"verdana\"> <B>Task: Fix The Error</B></font>"
   ]
  },
  {
   "cell_type": "code",
   "execution_count": null,
   "metadata": {},
   "outputs": [],
   "source": [
    "# define function how_many\n",
    "how_many():\n",
    "    requested = input(\"enter how many you want: \")\n",
    "    return requested\n",
    "\n",
    "# get the number_needed\n",
    "number_needed = how_many()\n",
    "print(number_needed, \"will be ordered\")"
   ]
  },
  {
   "cell_type": "markdown",
   "metadata": {},
   "source": [
    "User defined functions can also have optional arguments with default values:"
   ]
  },
  {
   "cell_type": "code",
   "execution_count": null,
   "metadata": {},
   "outputs": [],
   "source": [
    "def remainder(number, divisor=2):\n",
    "    return number % divisor"
   ]
  },
  {
   "cell_type": "markdown",
   "metadata": {},
   "source": [
    "The second argument of this function, `divisor`, is optional. If it is not provided by the caller, it will default to the number 2, as shown here:"
   ]
  },
  {
   "cell_type": "code",
   "execution_count": null,
   "metadata": {},
   "outputs": [],
   "source": [
    "remainder(5)"
   ]
  },
  {
   "cell_type": "code",
   "execution_count": null,
   "metadata": {},
   "outputs": [],
   "source": [
    "remainder(5, 3)"
   ]
  },
  {
   "cell_type": "markdown",
   "metadata": {},
   "source": [
    "To write a function that accepts any number of positional arguments, use a * argument"
   ]
  },
  {
   "cell_type": "code",
   "execution_count": null,
   "metadata": {},
   "outputs": [],
   "source": [
    "def avg(*nums):\n",
    "    return  sum(nums) / len(nums)"
   ]
  },
  {
   "cell_type": "code",
   "execution_count": null,
   "metadata": {},
   "outputs": [],
   "source": [
    "avg(1,2)"
   ]
  },
  {
   "cell_type": "code",
   "execution_count": null,
   "metadata": {},
   "outputs": [],
   "source": [
    "avg(1,2,3,4)"
   ]
  },
  {
   "cell_type": "markdown",
   "metadata": {},
   "source": [
    "In this example, `nums` is a tuple of all the positional arguments passed."
   ]
  },
  {
   "cell_type": "markdown",
   "metadata": {},
   "source": [
    "To accept any number of keyword arguments, use a parameter that starts with **. For\n",
    "example:"
   ]
  },
  {
   "cell_type": "code",
   "execution_count": null,
   "metadata": {},
   "outputs": [],
   "source": [
    "def make_element(name, **details):\n",
    "    pass"
   ]
  },
  {
   "cell_type": "markdown",
   "metadata": {},
   "source": [
    "Here, `details` is a dictionary that holds the passed keyword arguments"
   ]
  },
  {
   "cell_type": "markdown",
   "metadata": {},
   "source": [
    "If you want a function that can accept both any number of positional and keyword-only\n",
    "arguments, use * and ** together. For example:"
   ]
  },
  {
   "cell_type": "code",
   "execution_count": null,
   "metadata": {},
   "outputs": [],
   "source": [
    "def anyargs(*args, **kwargs):\n",
    "    print(args) # A tuple\n",
    "    print(kwargs) # A dict"
   ]
  },
  {
   "cell_type": "markdown",
   "metadata": {},
   "source": [
    "With this function, all of the positional arguments are placed into a tuple `args`, and all\n",
    "of the keyword arguments are placed into a dictionary `kwargs`."
   ]
  },
  {
   "cell_type": "code",
   "execution_count": null,
   "metadata": {},
   "outputs": [],
   "source": [
    "anyargs(2, 'a', a0 = 10, a1 = 20)"
   ]
  },
  {
   "cell_type": "markdown",
   "metadata": {},
   "source": [
    "A * argument can only appear as the last positional argument in a function definition.\n",
    "A ** argument can only appear as the last argument. "
   ]
  },
  {
   "cell_type": "code",
   "execution_count": null,
   "metadata": {},
   "outputs": [],
   "source": [
    "def a(x, *args, y): # y is a keyword-only argument\n",
    "    pass\n",
    "\n",
    "def b(x, *args, y, **kwargs):\n",
    "    pass"
   ]
  },
  {
   "cell_type": "markdown",
   "metadata": {},
   "source": [
    "Further reading on function arguments: \n",
    "* https://realpython.com/python-kwargs-and-args/\n",
    "* https://treyhunner.com/2018/04/keyword-arguments-in-python/\n",
    "* https://www.python.org/dev/peps/pep-0570/\n",
    "* https://realpython.com/lessons/positional-only-arguments/"
   ]
  },
  {
   "cell_type": "markdown",
   "metadata": {},
   "source": [
    "**Mutable objects as arguments:** Arguments are passed in by assignment. The parameter becomes a new reference\n",
    "to the object. Let us see how this works for mutable objects:"
   ]
  },
  {
   "cell_type": "code",
   "execution_count": null,
   "metadata": {},
   "outputs": [],
   "source": [
    "def myfun(my_list):\n",
    "    my_list[0] *= 10\n",
    "    return my_list\n",
    "\n",
    "\n",
    "L=[1,3,5,7]\n",
    "\n",
    "L1=myfun(L) # when the function is called, the name my_list has L assigned to it\n",
    "\n",
    "print(L,L1)"
   ]
  },
  {
   "cell_type": "markdown",
   "metadata": {},
   "source": [
    "Python passes function arguments by assigning to them, which means the function may change\n",
    "any mutable object received as an argument. There is no way to prevent this, except\n",
    "making local copies or using immutable objects (e.g., passing a tuple instead of a\n",
    "list).\n",
    "Remember: Mutable types: list, set, dict.... Immutable types: int, float, bool, str, tuple."
   ]
  },
  {
   "cell_type": "code",
   "execution_count": null,
   "metadata": {},
   "outputs": [],
   "source": [
    "def myfun(my_list):\n",
    "    my_list1=my_list[:]\n",
    "    my_list1[0] *= 10\n",
    "    return my_list1\n",
    "\n",
    "\n",
    "L=[1,3,5,7]\n",
    "\n",
    "L1=myfun(L) # when the function is called, the name my_list has L assigned to it\n",
    "\n",
    "print(L,L1)"
   ]
  },
  {
   "cell_type": "markdown",
   "metadata": {},
   "source": [
    "We can return multiple values from a function using tuples or lists:"
   ]
  },
  {
   "cell_type": "code",
   "execution_count": null,
   "metadata": {
    "jupyter": {
     "outputs_hidden": false
    }
   },
   "outputs": [],
   "source": [
    "def powers(x):\n",
    "    \"\"\"\n",
    "    Return a few powers of x.\n",
    "    \"\"\"\n",
    "    return x ** 2, x ** 3, x ** 4 #returning a tuple"
   ]
  },
  {
   "cell_type": "code",
   "execution_count": null,
   "metadata": {
    "jupyter": {
     "outputs_hidden": false
    }
   },
   "outputs": [],
   "source": [
    "powers(3)"
   ]
  },
  {
   "cell_type": "code",
   "execution_count": null,
   "metadata": {
    "jupyter": {
     "outputs_hidden": false
    }
   },
   "outputs": [],
   "source": [
    "x2, x3, x4 = powers(3)\n",
    "\n",
    "print(x3)"
   ]
  },
  {
   "cell_type": "markdown",
   "metadata": {},
   "source": [
    "### Unnamed functions (lambda function)"
   ]
  },
  {
   "cell_type": "markdown",
   "metadata": {},
   "source": [
    "In Python we can also create unnamed functions, using the `lambda` keyword. Simple functions that do nothing more than evaluate an expression can be replaced by a lambda expression."
   ]
  },
  {
   "cell_type": "code",
   "execution_count": null,
   "metadata": {
    "jupyter": {
     "outputs_hidden": false
    }
   },
   "outputs": [],
   "source": [
    "add = lambda x, y: x + y\n",
    "    \n",
    "add(2,3)"
   ]
  },
  {
   "cell_type": "markdown",
   "metadata": {},
   "source": [
    "The use of lambda here is the same as having typed this:"
   ]
  },
  {
   "cell_type": "code",
   "execution_count": null,
   "metadata": {
    "jupyter": {
     "outputs_hidden": false
    }
   },
   "outputs": [],
   "source": [
    "def add(x, y):\n",
    "    return x + y\n",
    "\n",
    "add(2,3)"
   ]
  },
  {
   "cell_type": "markdown",
   "metadata": {},
   "source": [
    "This technique is useful for example when we want to pass a simple function as an argument to another function, like `max`:\n",
    "By default, `max` returns the largest of its arguments. But if we pass in a function using the optional `key` argument, it returns the argument x that maximizes `key(x)` (aka the 'argmax')."
   ]
  },
  {
   "cell_type": "code",
   "execution_count": null,
   "metadata": {
    "jupyter": {
     "outputs_hidden": false
    }
   },
   "outputs": [],
   "source": [
    "max(100, 51, 14, key= lambda x: x%5) \n",
    "# it would be awkward to have to define the mod5 function in a separate place from where it’s used"
   ]
  },
  {
   "cell_type": "markdown",
   "metadata": {},
   "source": [
    "## Packages and modules"
   ]
  },
  {
   "cell_type": "markdown",
   "metadata": {},
   "source": [
    "Packages and modules extend the capability of Python. A module is a script file with .py extension (most often) and contains variables, functions, and class definitions aimed at solving particular problems. A package a directory of python modules. Besides the extensive [standard library](https://docs.python.org/3/library/), there is an ever growing collection of packages in the [Python Package Index](https://pypi.org/). To use a module or package in a Python program it first has to be imported. Modules not in the standard library (eg: numpy, matplotlib, scipy,..) have to be first installed using `pip` or `conda` before they can be imported. A module can be imported using the `import` statement. For example, to import the module `math`, which contains many standard mathematical functions, we can do:\n",
    "\n"
   ]
  },
  {
   "cell_type": "code",
   "execution_count": null,
   "metadata": {
    "jupyter": {
     "outputs_hidden": false
    }
   },
   "outputs": [],
   "source": [
    "import math"
   ]
  },
  {
   "cell_type": "markdown",
   "metadata": {},
   "source": [
    "This includes the whole module and makes it available for use later in the program. For example, we can do:"
   ]
  },
  {
   "cell_type": "code",
   "execution_count": null,
   "metadata": {
    "jupyter": {
     "outputs_hidden": false
    }
   },
   "outputs": [],
   "source": [
    "import math\n",
    "\n",
    "x = math.cos(2 * math.pi)\n",
    "\n",
    "print(x)"
   ]
  },
  {
   "cell_type": "markdown",
   "metadata": {},
   "source": [
    "Alternatively, we can chose to import all symbols (functions and variables) in a module to the current namespace (so that we don't need to use the prefix \"`math.`\" every time we use something from the `math` module:"
   ]
  },
  {
   "cell_type": "code",
   "execution_count": null,
   "metadata": {
    "jupyter": {
     "outputs_hidden": false
    }
   },
   "outputs": [],
   "source": [
    "from math import *\n",
    "\n",
    "x = cos(2 * pi)\n",
    "\n",
    "print(x)"
   ]
  },
  {
   "cell_type": "markdown",
   "metadata": {},
   "source": [
    "This pattern can be very convenient, but in large programs that include many modules it is often a good idea to keep the symbols from each module in their own namespaces, by using the `import math` pattern. This would elminate potentially confusing problems with name space collisions. Eg: The math package, cmath package and numpy package all contain their own sqrt() functions.\n",
    "\n",
    "As a third alternative, we can chose to import only a few selected symbols from a module by explicitly listing which ones we want to import instead of using the wildcard character `*`:"
   ]
  },
  {
   "cell_type": "code",
   "execution_count": null,
   "metadata": {
    "jupyter": {
     "outputs_hidden": false
    }
   },
   "outputs": [],
   "source": [
    "from math import cos, pi\n",
    "\n",
    "x = cos(2 * pi)\n",
    "\n",
    "print(x)"
   ]
  },
  {
   "cell_type": "markdown",
   "metadata": {},
   "source": [
    "Once a module is imported, we can list the symbols it provides using the `dir` function:"
   ]
  },
  {
   "cell_type": "code",
   "execution_count": null,
   "metadata": {
    "jupyter": {
     "outputs_hidden": false
    }
   },
   "outputs": [],
   "source": [
    "import math\n",
    "\n",
    "dir(math)"
   ]
  },
  {
   "cell_type": "markdown",
   "metadata": {},
   "source": [
    "And using the function `help` we can get a description of each function (almost .. not all functions have docstrings, as they are technically called, but the vast majority of functions are documented this way). "
   ]
  },
  {
   "cell_type": "code",
   "execution_count": null,
   "metadata": {
    "jupyter": {
     "outputs_hidden": false
    }
   },
   "outputs": [],
   "source": [
    "help(math.log)"
   ]
  },
  {
   "cell_type": "code",
   "execution_count": null,
   "metadata": {
    "jupyter": {
     "outputs_hidden": false
    }
   },
   "outputs": [],
   "source": [
    "log(10)"
   ]
  },
  {
   "cell_type": "code",
   "execution_count": null,
   "metadata": {
    "jupyter": {
     "outputs_hidden": false
    }
   },
   "outputs": [],
   "source": [
    "log(10, 2)"
   ]
  },
  {
   "cell_type": "markdown",
   "metadata": {},
   "source": [
    "We can also use the `help` function directly on modules: Try"
   ]
  },
  {
   "cell_type": "code",
   "execution_count": null,
   "metadata": {},
   "outputs": [],
   "source": [
    "help(math) "
   ]
  },
  {
   "cell_type": "code",
   "execution_count": null,
   "metadata": {},
   "outputs": [],
   "source": [
    "import sys\n",
    "\n",
    "print(sys.platform) #identifying the platform\n",
    "print(sys.path) # directories where python search for modules"
   ]
  },
  {
   "cell_type": "code",
   "execution_count": null,
   "metadata": {},
   "outputs": [],
   "source": [
    "import os\n",
    "\n",
    "# Print the current working directory \n",
    "print('The current working directory is:', os.getcwd())\n",
    "\n",
    "# List the content of the directory (both files and other directories)\n",
    "print('Current directory content: ', os.listdir())\n",
    "\n",
    "# Change the current working directory to child dir\n",
    "os.chdir('child')\n",
    "print('Changed working dir to child: ', os.getcwd())\n",
    "\n",
    "# Change the current working directory back to the parent dir\n",
    "os.chdir('..')\n",
    "print('Changed working dir back to parent: ', os.getcwd())"
   ]
  },
  {
   "cell_type": "markdown",
   "metadata": {},
   "source": [
    "**Testing the existence of paths, files, and directories**\n",
    "The module `os.path` contains common pathname manipulation functions. For example, `os.path.exists(path)` tests whether `path` (relative or absolute) exists in the file system, `os.path.isfile(path)` returns `True` if `path` (relative or absolute) refers to an existing file, and `os.path.isdir(path)` returns `True` if `path` refers to an existing directory. Other functions in the module allow you to get the size of a file, split and join path names regardless of the operating system, and so on. \n",
    "\n",
    "NOTE: In UNIX systems, paths are written using a forward slash (/) as separators; however, on Windows systems, paths are written using backslashes (\\\\) as separators. When joining path names, use `os.path.join` and Python will use the appropriate separator for the platform running the script.\n"
   ]
  },
  {
   "cell_type": "code",
   "execution_count": null,
   "metadata": {},
   "outputs": [],
   "source": [
    "dir(os.path)"
   ]
  },
  {
   "cell_type": "code",
   "execution_count": null,
   "metadata": {},
   "outputs": [],
   "source": [
    "# Another module in the standard library is random\n",
    "import random\n",
    "characters='abcdef'\n",
    "random.choice(characters)"
   ]
  },
  {
   "cell_type": "markdown",
   "metadata": {},
   "source": [
    "The `time()` function in the `time` module returns the number of seconds that have passed since the Epoch (aka [Unix time](https://en.wikipedia.org/wiki/Unix_time)). \n",
    "\n",
    "<!-- We've provided a function called `seconds_since_epoch` which returns the number of seconds that have passed since the Epoch (aka [Unix time](https://en.wikipedia.org/wiki/Unix_time)). -->\n",
    "\n",
    "Try it out below. Each time you run it, you should get a slightly larger number."
   ]
  },
  {
   "cell_type": "code",
   "execution_count": null,
   "metadata": {},
   "outputs": [],
   "source": [
    "import time\n",
    "t = time.time() # function 'time' from the module of the same name.\n",
    "print(t, \"seconds since the Epoch\")"
   ]
  },
  {
   "cell_type": "markdown",
   "metadata": {},
   "source": [
    "The function called `sleep()`, makes us wait some number of seconds while it does nothing particular. \n",
    "(Sounds useful, right?)"
   ]
  },
  {
   "cell_type": "code",
   "execution_count": null,
   "metadata": {},
   "outputs": [],
   "source": [
    "duration = 5\n",
    "print(\"Getting sleepy. See you in\", duration, \"seconds\")\n",
    "time.sleep(duration)\n",
    "print(\"I'm back. What did I miss?\")"
   ]
  },
  {
   "cell_type": "markdown",
   "metadata": {},
   "source": [
    "Using the `time()` function in the `time` module to calculate the time that a function takes to run:"
   ]
  },
  {
   "cell_type": "code",
   "execution_count": null,
   "metadata": {},
   "outputs": [],
   "source": [
    "import math\n",
    "t0=time.time()\n",
    "f=math.factorial(500)\n",
    "t1=time.time()\n",
    "print('Took', t1-t0, 'seconds')"
   ]
  },
  {
   "cell_type": "code",
   "execution_count": null,
   "metadata": {},
   "outputs": [],
   "source": [
    "print(f) # the size of Python’s integers is limited only by machine memory,"
   ]
  },
  {
   "cell_type": "markdown",
   "metadata": {},
   "source": [
    "**Passing Function as an Argument to Another Function** Say, we want to compute the time taken by the function call `fcn(arg)`. We can write a function `time_call(fcn, arg)` to compute the time taken by a given function `fcn`, with the given argument `arg`. Such functions which take another function as an argument are called *higher order functions*"
   ]
  },
  {
   "cell_type": "code",
   "execution_count": null,
   "metadata": {},
   "outputs": [],
   "source": [
    "def time_call(fcn, arg):\n",
    "    \"\"\"Return the amount of time the given function takes (in seconds) when called with the given argument.\n",
    "    \"\"\"\n",
    "    pass"
   ]
  },
  {
   "cell_type": "code",
   "execution_count": null,
   "metadata": {},
   "outputs": [],
   "source": [
    "print(time_call(math.factorial,200))"
   ]
  },
  {
   "cell_type": "code",
   "execution_count": null,
   "metadata": {},
   "outputs": [],
   "source": [
    "def slowest_call(fn, arg1, arg2, arg3):\n",
    "    \"\"\"Return the amount of time taken by the slowest of the following function\n",
    "    calls: fn(arg1), fn(arg2), fn(arg3)\n",
    "    \"\"\""
   ]
  },
  {
   "cell_type": "markdown",
   "metadata": {},
   "source": [
    "### Creating modules\n",
    "\n",
    "A module is in principle nothing else than a python file. \n",
    "We create an example of a module file which is saved in `module1.py`:\n"
   ]
  },
  {
   "cell_type": "code",
   "execution_count": null,
   "metadata": {},
   "outputs": [],
   "source": [
    "%%file module1.py \n",
    "# writes following to module1.py\n",
    "\n",
    "def myfun():\n",
    "    print('Hi from myfun in module 1')"
   ]
  },
  {
   "cell_type": "markdown",
   "metadata": {},
   "source": [
    "Once this module is imported the function `myfun` becomes available"
   ]
  },
  {
   "cell_type": "code",
   "execution_count": null,
   "metadata": {
    "scrolled": true
   },
   "outputs": [],
   "source": [
    "import module1\n",
    "module1.myfun()"
   ]
  },
  {
   "cell_type": "markdown",
   "metadata": {},
   "source": [
    "### Use of \\_\\_name\\_\\_\n",
    "Suppose we modify the file module1.py by adding one line:"
   ]
  },
  {
   "cell_type": "code",
   "execution_count": null,
   "metadata": {},
   "outputs": [],
   "source": [
    "%%file module1.py \n",
    "# writes following to module1.py\n",
    "\n",
    "def myfun():\n",
    "    print('Hi from module 1')\n",
    "\n",
    "print(\"My name is\", __name__)"
   ]
  },
  {
   "cell_type": "markdown",
   "metadata": {},
   "source": [
    "If we now import module 1:"
   ]
  },
  {
   "cell_type": "code",
   "execution_count": null,
   "metadata": {},
   "outputs": [],
   "source": [
    "import module1"
   ]
  },
  {
   "cell_type": "markdown",
   "metadata": {},
   "source": [
    "When Python comes across the `import module1` statement, it looks for the file `module1.py` in the current working directory (and if it can’t find it there, in all the directories in `sys.path`) and opens the file `module1.py`. While parsing the file `module1.py` from top to bottom, it will add any function definitions in this file into the `module1` name space in the calling context. It this example, there is only the function `myfun`. Once the import process is completed, we can make use of `module1.myfun`. If Python comes across statements other than function (and class) definitions while importing `module1.py`, it carries those out immediately. In this case, it will thus come across the statement `print(My name is, __name__)`. The variable `__name__` takes the name of the module, ie `module1`"
   ]
  },
  {
   "cell_type": "markdown",
   "metadata": {},
   "source": [
    "We can also execute this (module) file as a normal python program:"
   ]
  },
  {
   "cell_type": "code",
   "execution_count": null,
   "metadata": {
    "scrolled": true
   },
   "outputs": [],
   "source": [
    "!python module1.py  #or %run module1.py"
   ]
  },
  {
   "cell_type": "markdown",
   "metadata": {},
   "source": [
    "We note that the Python magic variable `__name__` takes the value `__main__` if the program file `module1.py` is executed directly.\n",
    "\n",
    "In summary,\n",
    "\n",
    "-   `__name__` is `__main__` if the module file is run on its own\n",
    "\n",
    "-   `__name__` is the name of the module (i.e. the module filename without the `.py` suffix) if the module file is imported.\n",
    "\n",
    "We can therefor use the following `if` statement in `module1.py` to write code that is *only run* when the module is executed on its own: This is useful to keep test programs or demonstrations of the abilities of a module in this “conditional” main program. It is common practice for any module files to have such a conditional main program which demonstrates its capabilities."
   ]
  },
  {
   "cell_type": "code",
   "execution_count": null,
   "metadata": {},
   "outputs": [],
   "source": [
    "if __name__ == \"__main__\":\n",
    "    pass"
   ]
  }
 ],
 "metadata": {
  "kernelspec": {
   "display_name": "Python 3",
   "language": "python",
   "name": "python3"
  },
  "language_info": {
   "codemirror_mode": {
    "name": "ipython",
    "version": 3
   },
   "file_extension": ".py",
   "mimetype": "text/x-python",
   "name": "python",
   "nbconvert_exporter": "python",
   "pygments_lexer": "ipython3",
   "version": "3.7.9"
  }
 },
 "nbformat": 4,
 "nbformat_minor": 4
}
